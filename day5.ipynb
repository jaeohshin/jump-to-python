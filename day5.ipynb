{
  "nbformat": 4,
  "nbformat_minor": 0,
  "metadata": {
    "colab": {
      "provenance": [],
      "authorship_tag": "ABX9TyOiCgeL9eVSemqXFxjWe6TC",
      "include_colab_link": true
    },
    "kernelspec": {
      "name": "python3",
      "display_name": "Python 3"
    },
    "language_info": {
      "name": "python"
    }
  },
  "cells": [
    {
      "cell_type": "markdown",
      "metadata": {
        "id": "view-in-github",
        "colab_type": "text"
      },
      "source": [
        "<a href=\"https://colab.research.google.com/github/jaeohshin/python-basic/blob/main/day5.ipynb\" target=\"_parent\"><img src=\"https://colab.research.google.com/assets/colab-badge.svg\" alt=\"Open In Colab\"/></a>"
      ]
    },
    {
      "cell_type": "markdown",
      "source": [
        "### 점프 투 파이썬, Aug 26 -- Sep 30. 2024"
      ],
      "metadata": {
        "id": "t34wKfnWi6Wn"
      }
    },
    {
      "cell_type": "markdown",
      "source": [
        "# Control"
      ],
      "metadata": {
        "id": "_3DZ_CUTXLIR"
      }
    },
    {
      "cell_type": "code",
      "source": [
        "#If\n",
        "\n",
        "money = True\n",
        "if money:\n",
        "    print(\"Take a taxi\")\n",
        "else:\n",
        "    print(\"Take a walk\")"
      ],
      "metadata": {
        "id": "yaxP4AbZtUpa",
        "colab": {
          "base_uri": "https://localhost:8080/"
        },
        "outputId": "3282888c-2bb2-4fdf-bbe9-c8d36ef22c54"
      },
      "execution_count": 1,
      "outputs": [
        {
          "output_type": "stream",
          "name": "stdout",
          "text": [
            "Take a taxi\n"
          ]
        }
      ]
    },
    {
      "cell_type": "code",
      "source": [
        "money = 1000\n",
        "if money >=5000:\n",
        "    print(\"Take a taxi\")\n",
        "else:\n",
        "    print(\"Take a walk\")"
      ],
      "metadata": {
        "id": "RfKCFrRAuBWO",
        "outputId": "250998da-819b-4c38-8147-a7b067379c41",
        "colab": {
          "base_uri": "https://localhost:8080/"
        }
      },
      "execution_count": 3,
      "outputs": [
        {
          "output_type": "stream",
          "name": "stdout",
          "text": [
            "Take a walk\n"
          ]
        }
      ]
    },
    {
      "cell_type": "code",
      "source": [
        "1 in [1, 2, 3]"
      ],
      "metadata": {
        "id": "jwms3h5O1uOy",
        "outputId": "1aaa47fd-05b6-428b-8976-c16dada2901f",
        "colab": {
          "base_uri": "https://localhost:8080/"
        }
      },
      "execution_count": 4,
      "outputs": [
        {
          "output_type": "execute_result",
          "data": {
            "text/plain": [
              "True"
            ]
          },
          "metadata": {},
          "execution_count": 4
        }
      ]
    },
    {
      "cell_type": "code",
      "source": [
        "1 not in [1, 2, 3]"
      ],
      "metadata": {
        "colab": {
          "base_uri": "https://localhost:8080/"
        },
        "id": "HEpOPMIyRxcU",
        "outputId": "50d6f820-d8e9-4681-b7be-e0137d9d062c"
      },
      "execution_count": 5,
      "outputs": [
        {
          "output_type": "execute_result",
          "data": {
            "text/plain": [
              "False"
            ]
          },
          "metadata": {},
          "execution_count": 5
        }
      ]
    },
    {
      "cell_type": "code",
      "source": [
        "'a' in ('a', 'b', 'c')"
      ],
      "metadata": {
        "colab": {
          "base_uri": "https://localhost:8080/"
        },
        "id": "l5gd2NsAR0Zb",
        "outputId": "bfbf01ca-086b-4c2f-ffef-2d419fecc05e"
      },
      "execution_count": 6,
      "outputs": [
        {
          "output_type": "execute_result",
          "data": {
            "text/plain": [
              "True"
            ]
          },
          "metadata": {},
          "execution_count": 6
        }
      ]
    },
    {
      "cell_type": "code",
      "source": [
        "'p' in 'python'"
      ],
      "metadata": {
        "colab": {
          "base_uri": "https://localhost:8080/"
        },
        "id": "pblHZxVuVUXE",
        "outputId": "d45ccd59-1baa-48f3-da34-7761953c39c8"
      },
      "execution_count": 7,
      "outputs": [
        {
          "output_type": "execute_result",
          "data": {
            "text/plain": [
              "True"
            ]
          },
          "metadata": {},
          "execution_count": 7
        }
      ]
    },
    {
      "cell_type": "code",
      "source": [
        "pocket = ['paper', 'cellphone', 'money']\n",
        "if 'card' in pocket:\n",
        "    pass\n",
        "else:\n",
        "    print(\"take a walk\")"
      ],
      "metadata": {
        "colab": {
          "base_uri": "https://localhost:8080/"
        },
        "id": "_87EqcoyVePO",
        "outputId": "53a8ec43-59f0-4462-ef9e-b437daaba1f0"
      },
      "execution_count": 14,
      "outputs": [
        {
          "output_type": "stream",
          "name": "stdout",
          "text": [
            "take a walk\n"
          ]
        }
      ]
    },
    {
      "cell_type": "code",
      "source": [
        "score = 80\n",
        "message = \"success\" if score >=60 else \"failure\""
      ],
      "metadata": {
        "id": "oDmvTz4kWcQd"
      },
      "execution_count": 16,
      "outputs": []
    },
    {
      "cell_type": "code",
      "source": [
        "treeHit = 0\n",
        "while treeHit < 10:\n",
        "    treeHit = treeHit +1\n",
        "    print(\"Hit the tree %d times\" %treeHit)\n",
        "    if treeHit ==10:\n",
        "        print(\"Tree is fell down\")"
      ],
      "metadata": {
        "colab": {
          "base_uri": "https://localhost:8080/"
        },
        "id": "JJW684enX-7z",
        "outputId": "6ca1fb92-065e-42ec-c418-5f547a43774b"
      },
      "execution_count": 17,
      "outputs": [
        {
          "output_type": "stream",
          "name": "stdout",
          "text": [
            "Hit the tree 1 times\n",
            "Hit the tree 2 times\n",
            "Hit the tree 3 times\n",
            "Hit the tree 4 times\n",
            "Hit the tree 5 times\n",
            "Hit the tree 6 times\n",
            "Hit the tree 7 times\n",
            "Hit the tree 8 times\n",
            "Hit the tree 9 times\n",
            "Hit the tree 10 times\n",
            "Tree is fell down\n"
          ]
        }
      ]
    },
    {
      "cell_type": "code",
      "source": [
        "prompt = \"\"\"\n",
        "1. Add\n",
        "2. Del\n",
        "3. List\n",
        "4. Quit\n",
        "Enter number: \"\"\""
      ],
      "metadata": {
        "id": "G1vtJ7cEZYbf"
      },
      "execution_count": 25,
      "outputs": []
    },
    {
      "cell_type": "code",
      "source": [
        "number = 0\n",
        "while number !=4:\n",
        "    print(prompt)\n",
        "    number = int(input())\n"
      ],
      "metadata": {
        "id": "Ja8q3AQuYmFo",
        "outputId": "4250f6cd-8133-4f64-a29f-1c03bbe43c99",
        "colab": {
          "base_uri": "https://localhost:8080/"
        }
      },
      "execution_count": 26,
      "outputs": [
        {
          "name": "stdout",
          "output_type": "stream",
          "text": [
            "\n",
            "1. Add\n",
            "2. Del\n",
            "3. List\n",
            "4. Quit\n",
            "Enter number: \n",
            "2\n",
            "\n",
            "1. Add\n",
            "2. Del\n",
            "3. List\n",
            "4. Quit\n",
            "Enter number: \n",
            "4\n"
          ]
        }
      ]
    },
    {
      "cell_type": "code",
      "source": [
        "coffee = 10\n",
        "money = 300\n",
        "while money:\n",
        "    print(\"Received money, I will give coffee.\")\n",
        "    coffee = coffee -1\n",
        "    print(\"The remaining coffee is %d\" %coffee)\n",
        "    if coffee == 0:\n",
        "        print(\"Coffee is sold out. I will stop.\")\n",
        "        break"
      ],
      "metadata": {
        "id": "dZsvExA_aZeE",
        "outputId": "3688b352-3225-4987-ba08-28ff0226eb4a",
        "colab": {
          "base_uri": "https://localhost:8080/"
        }
      },
      "execution_count": 27,
      "outputs": [
        {
          "output_type": "stream",
          "name": "stdout",
          "text": [
            "Received money, I will give coffee.\n",
            "The remaining coffee is 9\n",
            "Received money, I will give coffee.\n",
            "The remaining coffee is 8\n",
            "Received money, I will give coffee.\n",
            "The remaining coffee is 7\n",
            "Received money, I will give coffee.\n",
            "The remaining coffee is 6\n",
            "Received money, I will give coffee.\n",
            "The remaining coffee is 5\n",
            "Received money, I will give coffee.\n",
            "The remaining coffee is 4\n",
            "Received money, I will give coffee.\n",
            "The remaining coffee is 3\n",
            "Received money, I will give coffee.\n",
            "The remaining coffee is 2\n",
            "Received money, I will give coffee.\n",
            "The remaining coffee is 1\n",
            "Received money, I will give coffee.\n",
            "The remaining coffee is 0\n",
            "Coffee is sold out. I will stop.\n"
          ]
        }
      ]
    },
    {
      "cell_type": "code",
      "source": [],
      "metadata": {
        "id": "gIXnQfbka5vq"
      },
      "execution_count": null,
      "outputs": []
    }
  ]
}