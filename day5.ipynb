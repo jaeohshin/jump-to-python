{
  "nbformat": 4,
  "nbformat_minor": 0,
  "metadata": {
    "colab": {
      "provenance": [],
      "authorship_tag": "ABX9TyO7ciRuxDZ4ZY6TmEfZxpxt",
      "include_colab_link": true
    },
    "kernelspec": {
      "name": "python3",
      "display_name": "Python 3"
    },
    "language_info": {
      "name": "python"
    }
  },
  "cells": [
    {
      "cell_type": "markdown",
      "metadata": {
        "id": "view-in-github",
        "colab_type": "text"
      },
      "source": [
        "<a href=\"https://colab.research.google.com/github/jaeohshin/python-basic/blob/main/day5.ipynb\" target=\"_parent\"><img src=\"https://colab.research.google.com/assets/colab-badge.svg\" alt=\"Open In Colab\"/></a>"
      ]
    },
    {
      "cell_type": "markdown",
      "source": [
        "### 점프 투 파이썬, Aug 26 -- Sep 30. 2024"
      ],
      "metadata": {
        "id": "t34wKfnWi6Wn"
      }
    },
    {
      "cell_type": "markdown",
      "source": [
        "# Control"
      ],
      "metadata": {
        "id": "_3DZ_CUTXLIR"
      }
    },
    {
      "cell_type": "code",
      "source": [
        "#If\n",
        "\n",
        "money = True\n",
        "if money:\n",
        "    print(\"Take a taxi\")\n",
        "else:\n",
        "    print(\"Take a walk\")"
      ],
      "metadata": {
        "id": "yaxP4AbZtUpa",
        "outputId": "3282888c-2bb2-4fdf-bbe9-c8d36ef22c54",
        "colab": {
          "base_uri": "https://localhost:8080/"
        }
      },
      "execution_count": 1,
      "outputs": [
        {
          "output_type": "stream",
          "name": "stdout",
          "text": [
            "Take a taxi\n"
          ]
        }
      ]
    },
    {
      "cell_type": "code",
      "source": [
        "money = 1000\n",
        "if money >=5000:\n",
        "    print(\"Take a taxi\")\n",
        "else:\n",
        "    print(\"Take a walk\")"
      ],
      "metadata": {
        "id": "RfKCFrRAuBWO",
        "outputId": "250998da-819b-4c38-8147-a7b067379c41",
        "colab": {
          "base_uri": "https://localhost:8080/"
        }
      },
      "execution_count": 3,
      "outputs": [
        {
          "output_type": "stream",
          "name": "stdout",
          "text": [
            "Take a walk\n"
          ]
        }
      ]
    },
    {
      "cell_type": "code",
      "source": [
        "1 in [1, 2, 3]"
      ],
      "metadata": {
        "id": "jwms3h5O1uOy",
        "outputId": "1aaa47fd-05b6-428b-8976-c16dada2901f",
        "colab": {
          "base_uri": "https://localhost:8080/"
        }
      },
      "execution_count": 4,
      "outputs": [
        {
          "output_type": "execute_result",
          "data": {
            "text/plain": [
              "True"
            ]
          },
          "metadata": {},
          "execution_count": 4
        }
      ]
    },
    {
      "cell_type": "code",
      "source": [
        "1 not in [1, 2, 3]"
      ],
      "metadata": {
        "id": "HEpOPMIyRxcU",
        "outputId": "50d6f820-d8e9-4681-b7be-e0137d9d062c",
        "colab": {
          "base_uri": "https://localhost:8080/"
        }
      },
      "execution_count": 5,
      "outputs": [
        {
          "output_type": "execute_result",
          "data": {
            "text/plain": [
              "False"
            ]
          },
          "metadata": {},
          "execution_count": 5
        }
      ]
    },
    {
      "cell_type": "code",
      "source": [
        "'a' in ('a', 'b', 'c')"
      ],
      "metadata": {
        "id": "l5gd2NsAR0Zb",
        "outputId": "bfbf01ca-086b-4c2f-ffef-2d419fecc05e",
        "colab": {
          "base_uri": "https://localhost:8080/"
        }
      },
      "execution_count": 6,
      "outputs": [
        {
          "output_type": "execute_result",
          "data": {
            "text/plain": [
              "True"
            ]
          },
          "metadata": {},
          "execution_count": 6
        }
      ]
    },
    {
      "cell_type": "code",
      "source": [
        "'p' in 'python'"
      ],
      "metadata": {
        "id": "pblHZxVuVUXE",
        "outputId": "d45ccd59-1baa-48f3-da34-7761953c39c8",
        "colab": {
          "base_uri": "https://localhost:8080/"
        }
      },
      "execution_count": 7,
      "outputs": [
        {
          "output_type": "execute_result",
          "data": {
            "text/plain": [
              "True"
            ]
          },
          "metadata": {},
          "execution_count": 7
        }
      ]
    },
    {
      "cell_type": "code",
      "source": [
        "pocket = ['paper', 'cellphone', 'money']\n",
        "if 'card' in pocket:\n",
        "    pass\n",
        "else:\n",
        "    print(\"take a walk\")"
      ],
      "metadata": {
        "id": "_87EqcoyVePO",
        "outputId": "53a8ec43-59f0-4462-ef9e-b437daaba1f0",
        "colab": {
          "base_uri": "https://localhost:8080/"
        }
      },
      "execution_count": 14,
      "outputs": [
        {
          "output_type": "stream",
          "name": "stdout",
          "text": [
            "take a walk\n"
          ]
        }
      ]
    },
    {
      "cell_type": "code",
      "source": [
        "score = 80\n",
        "message = \"success\" if score >=60 else \"failure\""
      ],
      "metadata": {
        "id": "oDmvTz4kWcQd"
      },
      "execution_count": 16,
      "outputs": []
    },
    {
      "cell_type": "code",
      "source": [],
      "metadata": {
        "id": "JJW684enX-7z"
      },
      "execution_count": null,
      "outputs": []
    }
  ]
}