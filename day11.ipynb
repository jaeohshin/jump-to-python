{
  "nbformat": 4,
  "nbformat_minor": 0,
  "metadata": {
    "colab": {
      "provenance": [],
      "authorship_tag": "ABX9TyMnkCnwx3RLSriRpwOrVOzs",
      "include_colab_link": true
    },
    "kernelspec": {
      "name": "python3",
      "display_name": "Python 3"
    },
    "language_info": {
      "name": "python"
    }
  },
  "cells": [
    {
      "cell_type": "markdown",
      "metadata": {
        "id": "view-in-github",
        "colab_type": "text"
      },
      "source": [
        "<a href=\"https://colab.research.google.com/github/jaeohshin/jump-to-python/blob/main/day11.ipynb\" target=\"_parent\"><img src=\"https://colab.research.google.com/assets/colab-badge.svg\" alt=\"Open In Colab\"/></a>"
      ]
    },
    {
      "cell_type": "markdown",
      "source": [
        "### 점프 투 파이썬, Aug 26 -- Sep 30. 2024"
      ],
      "metadata": {
        "id": "t34wKfnWi6Wn"
      }
    },
    {
      "cell_type": "markdown",
      "source": [
        "# 5장 파이썬 날개 달기: 예외 처리"
      ],
      "metadata": {
        "id": "_3DZ_CUTXLIR"
      }
    },
    {
      "cell_type": "code",
      "source": [
        "# class in python"
      ],
      "metadata": {
        "id": "9wqQD5OR9xB9"
      },
      "execution_count": null,
      "outputs": []
    }
  ]
}