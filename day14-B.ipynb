{
  "nbformat": 4,
  "nbformat_minor": 0,
  "metadata": {
    "colab": {
      "provenance": [],
      "authorship_tag": "ABX9TyNAKIYfphRMx4/k7zPXOj3g",
      "include_colab_link": true
    },
    "kernelspec": {
      "name": "python3",
      "display_name": "Python 3"
    },
    "language_info": {
      "name": "python"
    }
  },
  "cells": [
    {
      "cell_type": "markdown",
      "metadata": {
        "id": "view-in-github",
        "colab_type": "text"
      },
      "source": [
        "<a href=\"https://colab.research.google.com/github/jaeohshin/jump-to-python/blob/main/day14-B.ipynb\" target=\"_parent\"><img src=\"https://colab.research.google.com/assets/colab-badge.svg\" alt=\"Open In Colab\"/></a>"
      ]
    },
    {
      "cell_type": "markdown",
      "source": [
        "### 점프 투 파이썬, Aug 26 -- Sep 30. 2024"
      ],
      "metadata": {
        "id": "t34wKfnWi6Wn"
      }
    },
    {
      "cell_type": "markdown",
      "source": [
        "# 6장 파이썬 프로그래밍"
      ],
      "metadata": {
        "id": "_3DZ_CUTXLIR"
      }
    },
    {
      "cell_type": "markdown",
      "source": [
        "## 구구단"
      ],
      "metadata": {
        "id": "vRa96HvZrgIw"
      }
    },
    {
      "cell_type": "code",
      "source": [
        "def gugu(n):\n",
        "    result = []\n",
        "    i = 1\n",
        "    while i < 10:\n",
        "        result.append(n*i)\n",
        "        i +=1\n",
        "\n",
        "    return result"
      ],
      "metadata": {
        "id": "ZsXwi7ZApnJe"
      },
      "execution_count": 8,
      "outputs": []
    },
    {
      "cell_type": "code",
      "source": [
        "gugu(2)"
      ],
      "metadata": {
        "colab": {
          "base_uri": "https://localhost:8080/"
        },
        "id": "PYJtW-22pzdq",
        "outputId": "2b67fcaa-4c69-4ff4-9d0b-73080452809f"
      },
      "execution_count": 9,
      "outputs": [
        {
          "output_type": "execute_result",
          "data": {
            "text/plain": [
              "[2, 4, 6, 8, 10, 12, 14, 16, 18]"
            ]
          },
          "metadata": {},
          "execution_count": 9
        }
      ]
    },
    {
      "cell_type": "markdown",
      "source": [
        "# 3의 배수와 5의 배수의 총 합"
      ],
      "metadata": {
        "id": "vOuxs1EirvyB"
      }
    },
    {
      "cell_type": "code",
      "source": [
        "sum = 0\n",
        "\n",
        "for n in range(1, 16):\n",
        "\n",
        "    if n % 3 == 0 or n % 5 == 0:\n",
        "        sum += n\n",
        "\n",
        "\n",
        "print(sum)"
      ],
      "metadata": {
        "colab": {
          "base_uri": "https://localhost:8080/"
        },
        "id": "xFLM7gHEp1a3",
        "outputId": "b38ac327-685f-4710-a60a-13657bcec285"
      },
      "execution_count": 20,
      "outputs": [
        {
          "output_type": "stream",
          "name": "stdout",
          "text": [
            "60\n"
          ]
        }
      ]
    },
    {
      "cell_type": "code",
      "source": [
        "https://projecteuler.net/archives\n"
      ],
      "metadata": {
        "id": "Ysk9C0yBr2Xk"
      },
      "execution_count": 20,
      "outputs": []
    },
    {
      "cell_type": "markdown",
      "source": [
        "# Next: https://wikidocs.net/184210"
      ],
      "metadata": {
        "id": "bdmRSngDufpX"
      }
    },
    {
      "cell_type": "code",
      "source": [],
      "metadata": {
        "id": "GbfD9VS9uiid"
      },
      "execution_count": null,
      "outputs": []
    }
  ]
}