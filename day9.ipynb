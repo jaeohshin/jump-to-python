{
  "nbformat": 4,
  "nbformat_minor": 0,
  "metadata": {
    "colab": {
      "provenance": [],
      "authorship_tag": "ABX9TyMjgvnzt/AWxAQIxa36c/Nf",
      "include_colab_link": true
    },
    "kernelspec": {
      "name": "python3",
      "display_name": "Python 3"
    },
    "language_info": {
      "name": "python"
    }
  },
  "cells": [
    {
      "cell_type": "markdown",
      "metadata": {
        "id": "view-in-github",
        "colab_type": "text"
      },
      "source": [
        "<a href=\"https://colab.research.google.com/github/jaeohshin/jump-to-python/blob/main/day9.ipynb\" target=\"_parent\"><img src=\"https://colab.research.google.com/assets/colab-badge.svg\" alt=\"Open In Colab\"/></a>"
      ]
    },
    {
      "cell_type": "markdown",
      "source": [
        "### 점프 투 파이썬, Aug 26 -- Sep 30. 2024"
      ],
      "metadata": {
        "id": "t34wKfnWi6Wn"
      }
    },
    {
      "cell_type": "markdown",
      "source": [
        "# 5장 파이썬 날개 달기"
      ],
      "metadata": {
        "id": "_3DZ_CUTXLIR"
      }
    },
    {
      "cell_type": "code",
      "source": [
        "# class in python"
      ],
      "metadata": {
        "id": "9wqQD5OR9xB9"
      },
      "execution_count": 1,
      "outputs": []
    },
    {
      "cell_type": "code",
      "source": [
        "class Calculator:\n",
        "    def __init__(self):\n",
        "        self.result = 0\n",
        "\n",
        "    def add(self, num):\n",
        "        self.result += num\n",
        "        return self.result\n",
        "\n",
        "    def sub(self, num):\n",
        "        self.result -= num\n",
        "        return self.result\n"
      ],
      "metadata": {
        "id": "B8UNCZ53yxr9"
      },
      "execution_count": 10,
      "outputs": []
    },
    {
      "cell_type": "code",
      "source": [
        "cal1 = Calculator()\n",
        "cal2 = Calculator()"
      ],
      "metadata": {
        "id": "iCtH5IMDzJun"
      },
      "execution_count": 8,
      "outputs": []
    },
    {
      "cell_type": "code",
      "source": [
        "print(cal1.add(3))\n",
        "print(cal1.add(4))"
      ],
      "metadata": {
        "id": "XryLTgFazLwS",
        "outputId": "cd8b6d9b-927a-42f9-85f3-ecbe705e0782",
        "colab": {
          "base_uri": "https://localhost:8080/"
        }
      },
      "execution_count": 9,
      "outputs": [
        {
          "output_type": "stream",
          "name": "stdout",
          "text": [
            "3\n",
            "7\n"
          ]
        }
      ]
    },
    {
      "cell_type": "code",
      "source": [
        "class Cookie:\n",
        "    pass"
      ],
      "metadata": {
        "id": "8M2ruUiGzhlX"
      },
      "execution_count": 11,
      "outputs": []
    },
    {
      "cell_type": "code",
      "source": [
        "a = Cookie()"
      ],
      "metadata": {
        "id": "_UCS63fs0zoo"
      },
      "execution_count": 12,
      "outputs": []
    },
    {
      "cell_type": "code",
      "source": [
        "b = Cookie"
      ],
      "metadata": {
        "id": "kYTPDS2Y03VS"
      },
      "execution_count": 13,
      "outputs": []
    },
    {
      "cell_type": "code",
      "source": [
        "class FourCal:\n",
        "    def __init__(self, first, second):  ##__init__ will be called automatically when object is created\n",
        "        self.first = first\n",
        "        self.second = second\n",
        "    def add(self):\n",
        "        result = self.first + self.second\n",
        "        return result"
      ],
      "metadata": {
        "id": "_Fv5cXVg04nU"
      },
      "execution_count": 53,
      "outputs": []
    },
    {
      "cell_type": "code",
      "source": [
        "a = FourCal(2, 4)\n",
        "a.first"
      ],
      "metadata": {
        "id": "GKCYUMN31U4O",
        "outputId": "47eca6ea-83d9-4962-91bb-c490ae9bd20e",
        "colab": {
          "base_uri": "https://localhost:8080/"
        }
      },
      "execution_count": 54,
      "outputs": [
        {
          "output_type": "execute_result",
          "data": {
            "text/plain": [
              "2"
            ]
          },
          "metadata": {},
          "execution_count": 54
        }
      ]
    },
    {
      "cell_type": "code",
      "source": [
        "a.add()"
      ],
      "metadata": {
        "id": "oYAvzaqC9LNA",
        "outputId": "836327a2-c13b-4f99-9c6f-37c88d2a0806",
        "colab": {
          "base_uri": "https://localhost:8080/"
        }
      },
      "execution_count": 55,
      "outputs": [
        {
          "output_type": "execute_result",
          "data": {
            "text/plain": [
              "6"
            ]
          },
          "metadata": {},
          "execution_count": 55
        }
      ]
    },
    {
      "cell_type": "code",
      "source": [
        "class MoreFourCal(FourCal):\n",
        "    def pow(self):\n",
        "        result = self.first ** self.second\n",
        "        return result"
      ],
      "metadata": {
        "id": "T9m3_gsC9NjK"
      },
      "execution_count": 60,
      "outputs": []
    },
    {
      "cell_type": "code",
      "source": [
        "b = MoreFourCal(2, 4)"
      ],
      "metadata": {
        "id": "rLlrGS6F92L4"
      },
      "execution_count": 61,
      "outputs": []
    },
    {
      "cell_type": "code",
      "source": [
        "b.pow()"
      ],
      "metadata": {
        "id": "sj0oiCeb95bw",
        "outputId": "6702f4c8-6868-47aa-eaf7-4e53acf04918",
        "colab": {
          "base_uri": "https://localhost:8080/"
        }
      },
      "execution_count": 62,
      "outputs": [
        {
          "output_type": "execute_result",
          "data": {
            "text/plain": [
              "16"
            ]
          },
          "metadata": {},
          "execution_count": 62
        }
      ]
    },
    {
      "cell_type": "code",
      "source": [],
      "metadata": {
        "id": "n0m8hZls96vm"
      },
      "execution_count": null,
      "outputs": []
    },
    {
      "cell_type": "markdown",
      "source": [
        "클래스 변수"
      ],
      "metadata": {
        "id": "_xyw4i6G-94a"
      }
    },
    {
      "cell_type": "code",
      "source": [
        "class Family:\n",
        "    lastname = \"Kim\""
      ],
      "metadata": {
        "id": "LzZGCFsP-_XS"
      },
      "execution_count": 63,
      "outputs": []
    },
    {
      "cell_type": "code",
      "source": [
        "Family.lastname"
      ],
      "metadata": {
        "id": "xYdj2fJ4_FWl",
        "outputId": "14fb07e0-d7f0-458c-ba11-b16d3a0b9f90",
        "colab": {
          "base_uri": "https://localhost:8080/",
          "height": 36
        }
      },
      "execution_count": 64,
      "outputs": [
        {
          "output_type": "execute_result",
          "data": {
            "text/plain": [
              "'Kim'"
            ],
            "application/vnd.google.colaboratory.intrinsic+json": {
              "type": "string"
            }
          },
          "metadata": {},
          "execution_count": 64
        }
      ]
    },
    {
      "cell_type": "code",
      "source": [],
      "metadata": {
        "id": "8mrTdP0q_Pes"
      },
      "execution_count": null,
      "outputs": []
    }
  ]
}