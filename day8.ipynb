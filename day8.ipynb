{
  "nbformat": 4,
  "nbformat_minor": 0,
  "metadata": {
    "colab": {
      "provenance": [],
      "authorship_tag": "ABX9TyOgYEa4pYG1+CZEZ1Y5uF1O",
      "include_colab_link": true
    },
    "kernelspec": {
      "name": "python3",
      "display_name": "Python 3"
    },
    "language_info": {
      "name": "python"
    }
  },
  "cells": [
    {
      "cell_type": "markdown",
      "metadata": {
        "id": "view-in-github",
        "colab_type": "text"
      },
      "source": [
        "<a href=\"https://colab.research.google.com/github/jaeohshin/jump-to-python/blob/main/day8.ipynb\" target=\"_parent\"><img src=\"https://colab.research.google.com/assets/colab-badge.svg\" alt=\"Open In Colab\"/></a>"
      ]
    },
    {
      "cell_type": "markdown",
      "source": [
        "### 점프 투 파이썬, Aug 26 -- Sep 30. 2024"
      ],
      "metadata": {
        "id": "t34wKfnWi6Wn"
      }
    },
    {
      "cell_type": "markdown",
      "source": [
        "# Function"
      ],
      "metadata": {
        "id": "_3DZ_CUTXLIR"
      }
    },
    {
      "cell_type": "code",
      "source": [
        "a = 1\n",
        "\n",
        "def vartest(a):\n",
        "    global a\n",
        "    a = a + 1\n",
        "\n",
        "print(a)\n"
      ],
      "metadata": {
        "id": "yaxP4AbZtUpa",
        "colab": {
          "base_uri": "https://localhost:8080/",
          "height": 108
        },
        "outputId": "b57d9168-6028-4c97-c313-0da3d1917e60"
      },
      "execution_count": 10,
      "outputs": [
        {
          "output_type": "error",
          "ename": "SyntaxError",
          "evalue": "name 'a' is parameter and global (<ipython-input-10-f31d1f603c68>, line 4)",
          "traceback": [
            "\u001b[0;36m  File \u001b[0;32m\"<ipython-input-10-f31d1f603c68>\"\u001b[0;36m, line \u001b[0;32m4\u001b[0m\n\u001b[0;31m    global a\u001b[0m\n\u001b[0m    ^\u001b[0m\n\u001b[0;31mSyntaxError\u001b[0m\u001b[0;31m:\u001b[0m name 'a' is parameter and global\n"
          ]
        }
      ]
    },
    {
      "cell_type": "code",
      "source": [
        "print(a)"
      ],
      "metadata": {
        "id": "J9sKp3NVDc5m",
        "colab": {
          "base_uri": "https://localhost:8080/"
        },
        "outputId": "7975ef1b-ccf5-443a-e5cd-92cfa672937e"
      },
      "execution_count": 6,
      "outputs": [
        {
          "output_type": "stream",
          "name": "stdout",
          "text": [
            "2\n"
          ]
        }
      ]
    },
    {
      "cell_type": "code",
      "source": [
        "add = lambda a, b: a+b\n",
        "result = add(3, 4)\n",
        "add(3, 4)"
      ],
      "metadata": {
        "colab": {
          "base_uri": "https://localhost:8080/"
        },
        "id": "mj5zxk0zlk_7",
        "outputId": "41df9f0e-646b-4677-bd0f-740857127ae7"
      },
      "execution_count": 11,
      "outputs": [
        {
          "output_type": "execute_result",
          "data": {
            "text/plain": [
              "7"
            ]
          },
          "metadata": {},
          "execution_count": 11
        }
      ]
    },
    {
      "cell_type": "markdown",
      "source": [
        "사용자 입출력"
      ],
      "metadata": {
        "id": "NrnzSj4gwcLE"
      }
    },
    {
      "cell_type": "code",
      "source": [
        "a = input()"
      ],
      "metadata": {
        "colab": {
          "base_uri": "https://localhost:8080/"
        },
        "id": "fVjGIVY8yDOH",
        "outputId": "bcbf26fb-2c8d-4095-c7c7-7c4326c01e38"
      },
      "execution_count": 12,
      "outputs": [
        {
          "name": "stdout",
          "output_type": "stream",
          "text": [
            "Life is too short, you need pythoin\n"
          ]
        }
      ]
    },
    {
      "cell_type": "code",
      "source": [
        "a"
      ],
      "metadata": {
        "colab": {
          "base_uri": "https://localhost:8080/",
          "height": 36
        },
        "id": "zkzq-VBw0VzU",
        "outputId": "2ac1b2f3-511d-4ab1-d078-a2338cda91d2"
      },
      "execution_count": 13,
      "outputs": [
        {
          "output_type": "execute_result",
          "data": {
            "text/plain": [
              "'Life is too short, you need pythoin'"
            ],
            "application/vnd.google.colaboratory.intrinsic+json": {
              "type": "string"
            }
          },
          "metadata": {},
          "execution_count": 13
        }
      ]
    },
    {
      "cell_type": "code",
      "source": [
        "number = input(\"Input a number: \")"
      ],
      "metadata": {
        "colab": {
          "base_uri": "https://localhost:8080/"
        },
        "id": "KLPerXJV0Y45",
        "outputId": "dea782ef-87be-4661-8225-19fb0e6217d4"
      },
      "execution_count": 18,
      "outputs": [
        {
          "name": "stdout",
          "output_type": "stream",
          "text": [
            "Input a number: 890\n"
          ]
        }
      ]
    },
    {
      "cell_type": "code",
      "source": [
        "print(number)"
      ],
      "metadata": {
        "colab": {
          "base_uri": "https://localhost:8080/"
        },
        "id": "6X_v1oby0gX0",
        "outputId": "038d2a22-b093-443e-c8c5-d37822e79521"
      },
      "execution_count": 19,
      "outputs": [
        {
          "output_type": "stream",
          "name": "stdout",
          "text": [
            "890\n"
          ]
        }
      ]
    },
    {
      "cell_type": "code",
      "source": [
        "type(number)"
      ],
      "metadata": {
        "colab": {
          "base_uri": "https://localhost:8080/"
        },
        "id": "_vGqQJ2B0jFo",
        "outputId": "3d558ea3-6aa0-4b56-b10b-8a487b8d8990"
      },
      "execution_count": 20,
      "outputs": [
        {
          "output_type": "execute_result",
          "data": {
            "text/plain": [
              "str"
            ]
          },
          "metadata": {},
          "execution_count": 20
        }
      ]
    },
    {
      "cell_type": "code",
      "source": [
        "print(\"life\", \"is\", \"too short\")"
      ],
      "metadata": {
        "colab": {
          "base_uri": "https://localhost:8080/"
        },
        "id": "zmd-y_jD08rh",
        "outputId": "b21e2f6e-9183-4970-a3d4-0f5a28fca964"
      },
      "execution_count": 23,
      "outputs": [
        {
          "output_type": "stream",
          "name": "stdout",
          "text": [
            "life is too short\n"
          ]
        }
      ]
    },
    {
      "cell_type": "code",
      "source": [
        "print(\"life\" + \"is\" + \"too short\")"
      ],
      "metadata": {
        "colab": {
          "base_uri": "https://localhost:8080/"
        },
        "id": "mIjWsf0z1JCf",
        "outputId": "b14574eb-0f12-48aa-ef85-e8e03b43a660"
      },
      "execution_count": 22,
      "outputs": [
        {
          "output_type": "stream",
          "name": "stdout",
          "text": [
            "lifeistoo short\n"
          ]
        }
      ]
    },
    {
      "cell_type": "code",
      "source": [
        "for i in range(10):\n",
        "    print(i, end= '')\n"
      ],
      "metadata": {
        "colab": {
          "base_uri": "https://localhost:8080/"
        },
        "id": "I_nAcZAS1MlS",
        "outputId": "cf82abb7-6ad2-4db3-a482-10adb8e26184"
      },
      "execution_count": 28,
      "outputs": [
        {
          "output_type": "stream",
          "name": "stdout",
          "text": [
            "0123456789"
          ]
        }
      ]
    },
    {
      "cell_type": "markdown",
      "source": [
        "# 파일 읽고 쓰기"
      ],
      "metadata": {
        "id": "ykYRJmWV3WC5"
      }
    },
    {
      "cell_type": "code",
      "source": [
        "f = open(\"newfile.txt\", 'w')\n",
        "f.close()"
      ],
      "metadata": {
        "id": "a02qH-kq1c8M"
      },
      "execution_count": 30,
      "outputs": []
    },
    {
      "cell_type": "code",
      "source": [
        "ls"
      ],
      "metadata": {
        "colab": {
          "base_uri": "https://localhost:8080/"
        },
        "id": "7Q-g7v3P3d4E",
        "outputId": "320456bf-1911-4507-ef69-d9a02d9d456b"
      },
      "execution_count": 38,
      "outputs": [
        {
          "output_type": "stream",
          "name": "stdout",
          "text": [
            "\u001b[0m\u001b[01;34mdocs\u001b[0m/  newfile.txt  \u001b[01;34msample_data\u001b[0m/\n"
          ]
        }
      ]
    },
    {
      "cell_type": "code",
      "source": [
        "f = open(\"newfile.txt\", 'w')\n",
        "for i in range(1, 11):\n",
        "    data = \"%d th line \\n\" % i\n",
        "    f.write(data)\n",
        "f.close()"
      ],
      "metadata": {
        "id": "nLl-KFOB3ilk"
      },
      "execution_count": 44,
      "outputs": []
    },
    {
      "cell_type": "code",
      "source": [
        "ls -tlrh"
      ],
      "metadata": {
        "colab": {
          "base_uri": "https://localhost:8080/"
        },
        "id": "Jh_VOL_o32Xm",
        "outputId": "26540bfb-7a2c-46e3-932f-62fee46cf119"
      },
      "execution_count": 45,
      "outputs": [
        {
          "output_type": "stream",
          "name": "stdout",
          "text": [
            "total 12K\n",
            "drwxr-xr-x 1 root root 4.0K Sep 11 13:23 \u001b[0m\u001b[01;34msample_data\u001b[0m/\n",
            "drwxr-xr-x 2 root root 4.0K Sep 13 10:14 \u001b[01;34mdocs\u001b[0m/\n",
            "-rw-r--r-- 1 root root  111 Sep 13 10:16 newfile.txt\n"
          ]
        }
      ]
    },
    {
      "cell_type": "code",
      "source": [
        "f = open(\"newfile.txt\", \"r\")\n",
        "\n",
        "while True:\n",
        "    line = f.readline()\n",
        "    if not line: break\n",
        "    print(line)\n",
        "f.close()"
      ],
      "metadata": {
        "colab": {
          "base_uri": "https://localhost:8080/"
        },
        "id": "fbUeQYiI4wNa",
        "outputId": "ae853ff1-afcf-4b31-86bc-6ef227a94698"
      },
      "execution_count": 50,
      "outputs": [
        {
          "output_type": "stream",
          "name": "stdout",
          "text": [
            "1 th line \n",
            "\n",
            "2 th line \n",
            "\n",
            "3 th line \n",
            "\n",
            "4 th line \n",
            "\n",
            "5 th line \n",
            "\n",
            "6 th line \n",
            "\n",
            "7 th line \n",
            "\n",
            "8 th line \n",
            "\n",
            "9 th line \n",
            "\n",
            "10 th line \n",
            "\n"
          ]
        }
      ]
    },
    {
      "cell_type": "code",
      "source": [
        "while True:\n",
        "    data = input()\n",
        "    if not data: break\n",
        "    print(data)"
      ],
      "metadata": {
        "colab": {
          "base_uri": "https://localhost:8080/"
        },
        "id": "uqvLidMw5Yd9",
        "outputId": "e75aa58f-a07d-40de-886c-0cbd6b807964"
      },
      "execution_count": 51,
      "outputs": [
        {
          "name": "stdout",
          "output_type": "stream",
          "text": [
            "hi\n",
            "hi\n",
            "s\n",
            "s\n",
            "bro\n",
            "bro\n",
            "mom\n",
            "mom\n",
            "hi\n",
            "hi\n",
            "go\n",
            "go\n",
            "go\n",
            "go\n",
            "gl\n",
            "gl\n",
            "\n"
          ]
        }
      ]
    },
    {
      "cell_type": "code",
      "source": [
        "f = open(\"newfile.txt\", 'r')\n",
        "lines = f.readlines()\n",
        "for line in lines:\n",
        "    print(line.strip())\n",
        "f.close()"
      ],
      "metadata": {
        "colab": {
          "base_uri": "https://localhost:8080/"
        },
        "id": "Ily80QEJ6KWc",
        "outputId": "f24c6ed1-61f9-4912-ddc4-e4ddfa58a394"
      },
      "execution_count": 55,
      "outputs": [
        {
          "output_type": "stream",
          "name": "stdout",
          "text": [
            "1 th line\n",
            "2 th line\n",
            "3 th line\n",
            "4 th line\n",
            "5 th line\n",
            "6 th line\n",
            "7 th line\n",
            "8 th line\n",
            "9 th line\n",
            "10 th line\n"
          ]
        }
      ]
    },
    {
      "cell_type": "code",
      "source": [
        "f = open(\"newfile.txt\", 'r')\n",
        "data = f.read()\n",
        "print(data)\n",
        "f.close()"
      ],
      "metadata": {
        "colab": {
          "base_uri": "https://localhost:8080/"
        },
        "id": "hgPaHC_p6i-z",
        "outputId": "4c2acb7c-2b6a-4ed9-c74c-91a74454dfc4"
      },
      "execution_count": 56,
      "outputs": [
        {
          "output_type": "stream",
          "name": "stdout",
          "text": [
            "1 th line \n",
            "2 th line \n",
            "3 th line \n",
            "4 th line \n",
            "5 th line \n",
            "6 th line \n",
            "7 th line \n",
            "8 th line \n",
            "9 th line \n",
            "10 th line \n",
            "\n"
          ]
        }
      ]
    },
    {
      "cell_type": "code",
      "source": [
        "f = open(\"newfile.txt\", 'r')\n",
        "for line in f:\n",
        "    print(line)\n",
        "f.close()"
      ],
      "metadata": {
        "colab": {
          "base_uri": "https://localhost:8080/"
        },
        "id": "Lkh8baA27mgL",
        "outputId": "1f6bec89-1bb9-495f-dad5-d070e21c709b"
      },
      "execution_count": 57,
      "outputs": [
        {
          "output_type": "stream",
          "name": "stdout",
          "text": [
            "1 th line \n",
            "\n",
            "2 th line \n",
            "\n",
            "3 th line \n",
            "\n",
            "4 th line \n",
            "\n",
            "5 th line \n",
            "\n",
            "6 th line \n",
            "\n",
            "7 th line \n",
            "\n",
            "8 th line \n",
            "\n",
            "9 th line \n",
            "\n",
            "10 th line \n",
            "\n"
          ]
        }
      ]
    },
    {
      "cell_type": "code",
      "source": [
        "f = open(\"newfile.txt\", 'a')\n",
        "for i in range(11, 20):\n",
        "    data = \"%d th line \\n\" % i\n",
        "    f.write(data)\n",
        "f.close()"
      ],
      "metadata": {
        "id": "Eb4lqs3Q713j"
      },
      "execution_count": 59,
      "outputs": []
    },
    {
      "cell_type": "code",
      "source": [],
      "metadata": {
        "id": "HIFC-MA98GAC"
      },
      "execution_count": null,
      "outputs": []
    },
    {
      "cell_type": "code",
      "source": [
        "f = open(\"foo.txt\", 'w')\n",
        "f.write(\"Life is too short, you need C++\")\n",
        "f.close()"
      ],
      "metadata": {
        "id": "CSVQObdP8VzZ"
      },
      "execution_count": 60,
      "outputs": []
    },
    {
      "cell_type": "code",
      "source": [
        "with open(\"foo.txt\", 'w') as f:\n",
        "    f.write(\"Life is too short, you need Java\")"
      ],
      "metadata": {
        "id": "_3PsWT4d8ctl"
      },
      "execution_count": 61,
      "outputs": []
    },
    {
      "cell_type": "markdown",
      "source": [
        "프로그램의 입출력"
      ],
      "metadata": {
        "id": "vxlwptbQ9gaq"
      }
    },
    {
      "cell_type": "code",
      "source": [
        "import sys\n",
        "\n",
        "args = sys.argv[1:]\n",
        "for i in args:\n",
        "    print(i)"
      ],
      "metadata": {
        "colab": {
          "base_uri": "https://localhost:8080/"
        },
        "id": "ZO8-KYfD8nv6",
        "outputId": "22519bc0-0c13-460f-b2d5-05b64f2885f0"
      },
      "execution_count": 62,
      "outputs": [
        {
          "output_type": "stream",
          "name": "stdout",
          "text": [
            "-f\n",
            "/root/.local/share/jupyter/runtime/kernel-3287b249-1992-40eb-a4db-3c1d341a7f84.json\n"
          ]
        }
      ]
    },
    {
      "cell_type": "code",
      "source": [],
      "metadata": {
        "id": "9wqQD5OR9xB9"
      },
      "execution_count": null,
      "outputs": []
    }
  ]
}