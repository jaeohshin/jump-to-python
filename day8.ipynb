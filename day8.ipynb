{
  "nbformat": 4,
  "nbformat_minor": 0,
  "metadata": {
    "colab": {
      "provenance": [],
      "toc_visible": true,
      "authorship_tag": "ABX9TyP2eH98ff81xHfoTuQu+DGa",
      "include_colab_link": true
    },
    "kernelspec": {
      "name": "python3",
      "display_name": "Python 3"
    },
    "language_info": {
      "name": "python"
    }
  },
  "cells": [
    {
      "cell_type": "markdown",
      "metadata": {
        "id": "view-in-github",
        "colab_type": "text"
      },
      "source": [
        "<a href=\"https://colab.research.google.com/github/jaeohshin/python-basic/blob/main/day8.ipynb\" target=\"_parent\"><img src=\"https://colab.research.google.com/assets/colab-badge.svg\" alt=\"Open In Colab\"/></a>"
      ]
    },
    {
      "cell_type": "markdown",
      "source": [
        "### 점프 투 파이썬, Aug 26 -- Sep 30. 2024"
      ],
      "metadata": {
        "id": "t34wKfnWi6Wn"
      }
    },
    {
      "cell_type": "markdown",
      "source": [
        "# Function"
      ],
      "metadata": {
        "id": "_3DZ_CUTXLIR"
      }
    },
    {
      "cell_type": "code",
      "source": [
        "def add(a, b):\n",
        "    return a+b"
      ],
      "metadata": {
        "id": "yaxP4AbZtUpa"
      },
      "execution_count": null,
      "outputs": []
    },
    {
      "cell_type": "code",
      "source": [
        "print(add(1, 2))"
      ],
      "metadata": {
        "id": "DPIs0apa3HiO",
        "outputId": "27b85362-c640-4cd9-a580-4dc93e3d9b16",
        "colab": {
          "base_uri": "https://localhost:8080/"
        }
      },
      "execution_count": null,
      "outputs": [
        {
          "output_type": "stream",
          "name": "stdout",
          "text": [
            "3\n"
          ]
        }
      ]
    },
    {
      "cell_type": "code",
      "source": [
        "def greeting():\n",
        "    return (\"Hi!\")"
      ],
      "metadata": {
        "id": "qcKUbwdQ3Wcj"
      },
      "execution_count": null,
      "outputs": []
    },
    {
      "cell_type": "code",
      "source": [
        "greeting()"
      ],
      "metadata": {
        "id": "U4QFnN0d396Q",
        "outputId": "7ffa54bc-3e65-4e5f-a88d-6215b49b42e1",
        "colab": {
          "base_uri": "https://localhost:8080/",
          "height": 35
        }
      },
      "execution_count": null,
      "outputs": [
        {
          "output_type": "execute_result",
          "data": {
            "text/plain": [
              "'Hi!'"
            ],
            "application/vnd.google.colaboratory.intrinsic+json": {
              "type": "string"
            }
          },
          "metadata": {},
          "execution_count": 14
        }
      ]
    },
    {
      "cell_type": "code",
      "source": [
        "a= greeting()"
      ],
      "metadata": {
        "id": "CPkobC8l4LyV"
      },
      "execution_count": null,
      "outputs": []
    },
    {
      "cell_type": "code",
      "source": [
        "print(a)"
      ],
      "metadata": {
        "id": "bzM-LS3_4Z-1",
        "outputId": "82da0a0e-cdeb-483f-ba47-e9cacee23274",
        "colab": {
          "base_uri": "https://localhost:8080/"
        }
      },
      "execution_count": null,
      "outputs": [
        {
          "output_type": "stream",
          "name": "stdout",
          "text": [
            "Hi!\n"
          ]
        }
      ]
    },
    {
      "cell_type": "code",
      "source": [
        "def hi():\n",
        "    print(\"Hi!\")"
      ],
      "metadata": {
        "id": "p1XUx8gn4bNi"
      },
      "execution_count": null,
      "outputs": []
    },
    {
      "cell_type": "code",
      "source": [
        "a=hi()"
      ],
      "metadata": {
        "id": "j8iWuh1C48FU",
        "outputId": "11d72900-9622-4572-ed2a-cb3fb6810d3c",
        "colab": {
          "base_uri": "https://localhost:8080/"
        }
      },
      "execution_count": null,
      "outputs": [
        {
          "output_type": "stream",
          "name": "stdout",
          "text": [
            "Hi!\n"
          ]
        }
      ]
    },
    {
      "cell_type": "code",
      "source": [
        "print(a)"
      ],
      "metadata": {
        "id": "oSIbXpkT49P2",
        "outputId": "dc7ff113-44e3-418d-890e-6e962293e1e9",
        "colab": {
          "base_uri": "https://localhost:8080/"
        }
      },
      "execution_count": null,
      "outputs": [
        {
          "output_type": "stream",
          "name": "stdout",
          "text": [
            "None\n"
          ]
        }
      ]
    },
    {
      "cell_type": "code",
      "source": [
        "hi()"
      ],
      "metadata": {
        "id": "CMeE1_ZX492b",
        "outputId": "0fa33c51-e7c7-454c-8e3a-37291c97c6b4",
        "colab": {
          "base_uri": "https://localhost:8080/"
        }
      },
      "execution_count": null,
      "outputs": [
        {
          "output_type": "stream",
          "name": "stdout",
          "text": [
            "Hi!\n"
          ]
        }
      ]
    },
    {
      "cell_type": "code",
      "source": [
        "def sub(a, b):\n",
        "    return a-b"
      ],
      "metadata": {
        "id": "-IPFk4gl6qId"
      },
      "execution_count": null,
      "outputs": []
    },
    {
      "cell_type": "code",
      "source": [
        "result = sub(a=4, b=1)"
      ],
      "metadata": {
        "id": "FRCBw-yj6u34"
      },
      "execution_count": null,
      "outputs": []
    },
    {
      "cell_type": "code",
      "source": [
        "print(result)"
      ],
      "metadata": {
        "id": "xCDoYHAh6wzd",
        "outputId": "401a706a-26f5-42f6-dc0f-7cc79c2421c2",
        "colab": {
          "base_uri": "https://localhost:8080/"
        }
      },
      "execution_count": null,
      "outputs": [
        {
          "output_type": "stream",
          "name": "stdout",
          "text": [
            "3\n"
          ]
        }
      ]
    },
    {
      "cell_type": "code",
      "source": [
        "result = sub(b=1, a=4)"
      ],
      "metadata": {
        "id": "G4WZ227N612C"
      },
      "execution_count": null,
      "outputs": []
    },
    {
      "cell_type": "code",
      "source": [
        "print(result)"
      ],
      "metadata": {
        "id": "1DAXADmf66An",
        "outputId": "f71aea0c-2114-4750-e2fd-0c41fc20e825",
        "colab": {
          "base_uri": "https://localhost:8080/"
        }
      },
      "execution_count": null,
      "outputs": [
        {
          "output_type": "stream",
          "name": "stdout",
          "text": [
            "3\n"
          ]
        }
      ]
    },
    {
      "cell_type": "code",
      "source": [
        "def add_many(*args):\n",
        "    result = 0\n",
        "    for i in args:\n",
        "        result = result + i\n",
        "    return (result)"
      ],
      "metadata": {
        "id": "-K2hXQyD67Jo"
      },
      "execution_count": null,
      "outputs": []
    },
    {
      "cell_type": "code",
      "source": [
        "r = add_many(1, 2, 3)"
      ],
      "metadata": {
        "id": "Eb8Vk4Wg7UnZ"
      },
      "execution_count": null,
      "outputs": []
    },
    {
      "cell_type": "code",
      "source": [
        "print(r)"
      ],
      "metadata": {
        "id": "S-GCimF17XxJ",
        "outputId": "d91abe2a-b7ce-4fbc-c783-d710e27c9437",
        "colab": {
          "base_uri": "https://localhost:8080/"
        }
      },
      "execution_count": null,
      "outputs": [
        {
          "output_type": "stream",
          "name": "stdout",
          "text": [
            "6\n"
          ]
        }
      ]
    },
    {
      "cell_type": "code",
      "source": [
        "def add_mul(choice, *args):\n",
        "    if choice == \"add\":\n",
        "        result = 0\n",
        "        for i in args:\n",
        "            result = result + i\n",
        "\n",
        "    elif choice == \"mul\":\n",
        "        result = 1\n",
        "        for i in args:\n",
        "            result = result * i\n",
        "\n",
        "    return result"
      ],
      "metadata": {
        "id": "Iyn_Aekl7ezl"
      },
      "execution_count": null,
      "outputs": []
    },
    {
      "cell_type": "code",
      "source": [
        "r = add_mul(\"mul\", 1, 2, 3, 4, 5,)"
      ],
      "metadata": {
        "id": "oOpUuhLC8LNu"
      },
      "execution_count": null,
      "outputs": []
    },
    {
      "cell_type": "code",
      "source": [
        "r"
      ],
      "metadata": {
        "id": "cs3gwOMD8UbJ",
        "outputId": "e2ae92d1-c1a9-4295-8ba7-d18ebf1cd522",
        "colab": {
          "base_uri": "https://localhost:8080/"
        }
      },
      "execution_count": null,
      "outputs": [
        {
          "output_type": "execute_result",
          "data": {
            "text/plain": [
              "120"
            ]
          },
          "metadata": {},
          "execution_count": 44
        }
      ]
    },
    {
      "cell_type": "code",
      "source": [
        "def print_kwargs(**kwargs):\n",
        "    return(kwargs)"
      ],
      "metadata": {
        "id": "oXPuTYtj8WB9"
      },
      "execution_count": null,
      "outputs": []
    },
    {
      "cell_type": "code",
      "source": [
        "print_kwargs(a=1)"
      ],
      "metadata": {
        "id": "Vetzk7tRAe52",
        "outputId": "048538d4-f541-4d96-9b98-bffcfdc583ef",
        "colab": {
          "base_uri": "https://localhost:8080/"
        }
      },
      "execution_count": null,
      "outputs": [
        {
          "output_type": "stream",
          "name": "stdout",
          "text": [
            "{'a': 1}\n"
          ]
        }
      ]
    },
    {
      "cell_type": "code",
      "source": [
        "a = print_kwargs(name='foo', age=3)"
      ],
      "metadata": {
        "id": "MOHMm0hUAg9v"
      },
      "execution_count": null,
      "outputs": []
    },
    {
      "cell_type": "code",
      "source": [
        "print(a)"
      ],
      "metadata": {
        "id": "o4tWSvbgAyqF",
        "outputId": "4feb90a2-3861-4217-d945-a8d24f19002e",
        "colab": {
          "base_uri": "https://localhost:8080/"
        }
      },
      "execution_count": null,
      "outputs": [
        {
          "output_type": "stream",
          "name": "stdout",
          "text": [
            "{'name': 'foo', 'age': 3}\n"
          ]
        }
      ]
    },
    {
      "cell_type": "code",
      "source": [
        "a['age']"
      ],
      "metadata": {
        "id": "CeETgWNNA7vR",
        "outputId": "bce491ed-6c10-49fb-f5bf-780afa71951c",
        "colab": {
          "base_uri": "https://localhost:8080/"
        }
      },
      "execution_count": null,
      "outputs": [
        {
          "output_type": "execute_result",
          "data": {
            "text/plain": [
              "3"
            ]
          },
          "metadata": {},
          "execution_count": 57
        }
      ]
    },
    {
      "cell_type": "code",
      "source": [
        "def add_mul(a, b):\n",
        "    return a+b, a * b"
      ],
      "metadata": {
        "id": "nSWSSq7BBL65"
      },
      "execution_count": null,
      "outputs": []
    },
    {
      "cell_type": "code",
      "source": [
        "result1 = add_mul(2, 4)"
      ],
      "metadata": {
        "id": "S6MNhf_qBrBQ"
      },
      "execution_count": null,
      "outputs": []
    },
    {
      "cell_type": "code",
      "source": [
        "print(result1)"
      ],
      "metadata": {
        "id": "lK5HThlJBu3C",
        "outputId": "17f3ce58-a157-4bc3-db85-21d3670e1557",
        "colab": {
          "base_uri": "https://localhost:8080/"
        }
      },
      "execution_count": null,
      "outputs": [
        {
          "output_type": "stream",
          "name": "stdout",
          "text": [
            "(6, 8)\n"
          ]
        }
      ]
    },
    {
      "cell_type": "code",
      "source": [
        "def say_myself(name, age, man=True):\n",
        "    print(\"My name is %s\" % name)\n",
        "    print(\"I am %d years old\" % age)\n",
        "    if man:\n",
        "        print (\"I am a man\")\n",
        "    else:\n",
        "        print(\"I am a woman\")\n"
      ],
      "metadata": {
        "id": "D8k3FMwKB9Ja"
      },
      "execution_count": null,
      "outputs": []
    },
    {
      "cell_type": "code",
      "source": [
        "say_myself(\"홍길동\", 27, False)"
      ],
      "metadata": {
        "id": "PssE7CMBDZLz",
        "outputId": "98a7bcb2-342a-46df-8ef5-b5ca1ade834f",
        "colab": {
          "base_uri": "https://localhost:8080/"
        }
      },
      "execution_count": null,
      "outputs": [
        {
          "output_type": "stream",
          "name": "stdout",
          "text": [
            "My name is 홍길동\n",
            "I am 27 years old\n",
            "I am a woman\n"
          ]
        }
      ]
    },
    {
      "cell_type": "code",
      "source": [],
      "metadata": {
        "id": "J9sKp3NVDc5m"
      },
      "execution_count": null,
      "outputs": []
    }
  ]
}