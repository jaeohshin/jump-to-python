{
  "nbformat": 4,
  "nbformat_minor": 0,
  "metadata": {
    "colab": {
      "provenance": [],
      "authorship_tag": "ABX9TyOMvrEID4MwNalvur3NU1KI",
      "include_colab_link": true
    },
    "kernelspec": {
      "name": "python3",
      "display_name": "Python 3"
    },
    "language_info": {
      "name": "python"
    }
  },
  "cells": [
    {
      "cell_type": "markdown",
      "metadata": {
        "id": "view-in-github",
        "colab_type": "text"
      },
      "source": [
        "<a href=\"https://colab.research.google.com/github/jaeohshin/jump-to-python/blob/main/day15.ipynb\" target=\"_parent\"><img src=\"https://colab.research.google.com/assets/colab-badge.svg\" alt=\"Open In Colab\"/></a>"
      ]
    },
    {
      "cell_type": "markdown",
      "source": [
        "### 점프 투 파이썬, Aug 26 -- Sep 30. 2024"
      ],
      "metadata": {
        "id": "t34wKfnWi6Wn"
      }
    },
    {
      "cell_type": "markdown",
      "source": [
        "# 7장 파이썬 날아오르기\n",
        "## 유니코드"
      ],
      "metadata": {
        "id": "_3DZ_CUTXLIR"
      }
    },
    {
      "cell_type": "code",
      "source": [
        "# Encoding\n",
        "\n",
        "a = \"Life is too short\"\n",
        "b = a.encode('utf-8')\n",
        "b"
      ],
      "metadata": {
        "id": "hOMZp3s39TJs",
        "outputId": "b7b86b76-cafe-45e8-eb99-a6e31df168da",
        "colab": {
          "base_uri": "https://localhost:8080/"
        }
      },
      "execution_count": 3,
      "outputs": [
        {
          "output_type": "execute_result",
          "data": {
            "text/plain": [
              "b'Life is too short'"
            ]
          },
          "metadata": {},
          "execution_count": 3
        }
      ]
    },
    {
      "cell_type": "code",
      "source": [
        "type(a)"
      ],
      "metadata": {
        "id": "bQgx_dC_9rKV",
        "outputId": "d26237f3-f710-475a-8621-6afd97fbfad5",
        "colab": {
          "base_uri": "https://localhost:8080/"
        }
      },
      "execution_count": 4,
      "outputs": [
        {
          "output_type": "execute_result",
          "data": {
            "text/plain": [
              "str"
            ]
          },
          "metadata": {},
          "execution_count": 4
        }
      ]
    },
    {
      "cell_type": "code",
      "source": [
        "type(b)"
      ],
      "metadata": {
        "id": "q4lrtfim-REu",
        "outputId": "e851413e-4bb4-491e-fd1b-5398c4eeaf88",
        "colab": {
          "base_uri": "https://localhost:8080/"
        }
      },
      "execution_count": 5,
      "outputs": [
        {
          "output_type": "execute_result",
          "data": {
            "text/plain": [
              "bytes"
            ]
          },
          "metadata": {},
          "execution_count": 5
        }
      ]
    },
    {
      "cell_type": "code",
      "source": [
        "print(b)"
      ],
      "metadata": {
        "id": "HcdkWdRa-R_b",
        "outputId": "5854c0d9-46ae-405d-aa2f-04d70b0bd2e0",
        "colab": {
          "base_uri": "https://localhost:8080/"
        }
      },
      "execution_count": 7,
      "outputs": [
        {
          "output_type": "stream",
          "name": "stdout",
          "text": [
            "b'Life is too short'\n"
          ]
        }
      ]
    },
    {
      "cell_type": "code",
      "source": [
        "a = \"한글\"\n",
        "b = a.encode(\"euc-kr\")\n",
        "b"
      ],
      "metadata": {
        "id": "kiN4cT8L-XiE",
        "outputId": "d8bf9b17-d932-4b7b-d8fc-95db8a2d43f6",
        "colab": {
          "base_uri": "https://localhost:8080/"
        }
      },
      "execution_count": 11,
      "outputs": [
        {
          "output_type": "execute_result",
          "data": {
            "text/plain": [
              "b'\\xc7\\xd1\\xb1\\xdb'"
            ]
          },
          "metadata": {},
          "execution_count": 11
        }
      ]
    },
    {
      "cell_type": "code",
      "source": [
        "b.decode(\"euc-kr\")"
      ],
      "metadata": {
        "id": "y9Nh4rpy-lNw",
        "outputId": "84285f81-2e59-4e61-ba74-bb2853fad44d",
        "colab": {
          "base_uri": "https://localhost:8080/",
          "height": 35
        }
      },
      "execution_count": 12,
      "outputs": [
        {
          "output_type": "execute_result",
          "data": {
            "text/plain": [
              "'한글'"
            ],
            "application/vnd.google.colaboratory.intrinsic+json": {
              "type": "string"
            }
          },
          "metadata": {},
          "execution_count": 12
        }
      ]
    },
    {
      "cell_type": "markdown",
      "source": [
        "# 클로저와 데코레이터"
      ],
      "metadata": {
        "id": "CDlvoW2j_Lzq"
      }
    },
    {
      "cell_type": "code",
      "source": [
        "def mul3(n):\n",
        "    return n * 3"
      ],
      "metadata": {
        "id": "W3j7jOKy_J1d"
      },
      "execution_count": 14,
      "outputs": []
    },
    {
      "cell_type": "code",
      "source": [
        "def mul5(n):\n",
        "    return n * 5"
      ],
      "metadata": {
        "id": "0JWYVFdM_Yxl"
      },
      "execution_count": 15,
      "outputs": []
    },
    {
      "cell_type": "code",
      "source": [
        "# closure.py\n",
        "class Mul:\n",
        "    def __init__(self, m):\n",
        "        self.m = m\n",
        "\n",
        "    def mul(self, n):\n",
        "        return self.m * n"
      ],
      "metadata": {
        "id": "avFBIMgWAzTv"
      },
      "execution_count": 20,
      "outputs": []
    },
    {
      "cell_type": "code",
      "source": [
        "if __name__ == \"__main__\":\n",
        "    mul3 = Mul(3)\n",
        "    mul5 = Mul(5)\n",
        "\n",
        "    print(mul3.mul(10))"
      ],
      "metadata": {
        "colab": {
          "base_uri": "https://localhost:8080/"
        },
        "id": "3zaBKUwt_b7u",
        "outputId": "f9485d4c-edf3-4afc-e559-840fcd76eb16"
      },
      "execution_count": 21,
      "outputs": [
        {
          "output_type": "stream",
          "name": "stdout",
          "text": [
            "30\n"
          ]
        }
      ]
    },
    {
      "cell_type": "code",
      "source": [
        "# closure.py\n",
        "class Mul:\n",
        "    def __init__(self,m):\n",
        "        self.m = m\n",
        "\n",
        "    def __call__(self, n):\n",
        "        return self.m * n"
      ],
      "metadata": {
        "id": "kJqYcYg7AsYO"
      },
      "execution_count": 22,
      "outputs": []
    },
    {
      "cell_type": "code",
      "source": [
        "if __name__ == \"__main__\":\n",
        "    mul3 = Mul(3)\n",
        "    mul5 = Mul(5)\n",
        "\n",
        "    print(mul3(10))"
      ],
      "metadata": {
        "id": "mO5uuuLiCGE4",
        "outputId": "8ac1158e-1232-4140-ee10-4892bc65f876",
        "colab": {
          "base_uri": "https://localhost:8080/"
        }
      },
      "execution_count": 24,
      "outputs": [
        {
          "output_type": "stream",
          "name": "stdout",
          "text": [
            "30\n"
          ]
        }
      ]
    },
    {
      "cell_type": "code",
      "source": [
        "# wrapper.py\n",
        "def mul(m):\n",
        "    def wrapper(n):\n",
        "        return m * n\n",
        "    return wrapper\n",
        "\n",
        "if __name__ ==\"__main__\":\n",
        "    mul3 = mul(3)\n",
        "\n",
        "    print(mul3(10))"
      ],
      "metadata": {
        "id": "sG2k3FN2CPv0",
        "outputId": "676c4862-7482-4476-cf43-6ca7f5efe578",
        "colab": {
          "base_uri": "https://localhost:8080/"
        }
      },
      "execution_count": 25,
      "outputs": [
        {
          "output_type": "stream",
          "name": "stdout",
          "text": [
            "30\n"
          ]
        }
      ]
    },
    {
      "cell_type": "code",
      "source": [],
      "metadata": {
        "id": "vHSZDB_nCys8"
      },
      "execution_count": null,
      "outputs": []
    }
  ]
}